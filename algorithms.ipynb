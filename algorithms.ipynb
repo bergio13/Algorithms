{
 "cells": [
  {
   "cell_type": "code",
   "execution_count": 14,
   "metadata": {},
   "outputs": [],
   "source": [
    "import random\n",
    "import numpy as np\n",
    "import time\n",
    "import statistics\n",
    "from collections import namedtuple"
   ]
  },
  {
   "cell_type": "markdown",
   "metadata": {},
   "source": [
    "# Divide and conquer"
   ]
  },
  {
   "cell_type": "markdown",
   "metadata": {},
   "source": [
    "## Sorting"
   ]
  },
  {
   "cell_type": "code",
   "execution_count": 7,
   "metadata": {},
   "outputs": [
    {
     "name": "stdout",
     "output_type": "stream",
     "text": [
      "List too long to print\n"
     ]
    }
   ],
   "source": [
    "n = 10000\n",
    "randomlist = random.sample(range(0, n), n)\n",
    "print(randomlist) if len(randomlist) < 20 else print(\"List too long to print\")"
   ]
  },
  {
   "cell_type": "markdown",
   "metadata": {},
   "source": [
    "### Merge sort"
   ]
  },
  {
   "cell_type": "code",
   "execution_count": 16,
   "metadata": {},
   "outputs": [],
   "source": [
    "# Average and Worst case performance: O(n log(n))\n",
    "def mergesort(array):\n",
    "    if len(array) <= 1:\n",
    "        return array\n",
    "    else:\n",
    "        mid = len(array) // 2\n",
    "        left = array[:mid]\n",
    "        right = array[mid:]\n",
    "        left = mergesort(left)\n",
    "        right = mergesort(right)\n",
    "        return merge(left, right)\n",
    "        \n",
    "\n",
    "def merge(left, right):\n",
    "    result = []\n",
    "    i, j = 0, 0\n",
    "    while i < len(left) and j < len(right):\n",
    "        if left[i] <= right[j]:\n",
    "            result.append(left[i])\n",
    "            i += 1\n",
    "        else:\n",
    "            result.append(right[j])\n",
    "            j+= 1\n",
    "    return result + left[i:] + right[j:]"
   ]
  },
  {
   "cell_type": "code",
   "execution_count": 17,
   "metadata": {},
   "outputs": [
    {
     "name": "stdout",
     "output_type": "stream",
     "text": [
      "36.9 ms ± 3.27 ms per loop (mean ± std. dev. of 7 runs, 10 loops each)\n"
     ]
    }
   ],
   "source": [
    "%%timeit\n",
    "mergesort(randomlist.copy())"
   ]
  },
  {
   "cell_type": "markdown",
   "metadata": {},
   "source": [
    "#### Comparison with bubble sort"
   ]
  },
  {
   "cell_type": "code",
   "execution_count": 5,
   "metadata": {},
   "outputs": [],
   "source": [
    "# Average and Worst case performance: O(n^2)\n",
    "def bubble_sort(arr):\n",
    "    n = len(arr)\n",
    "    \n",
    "    for i in range(n - 1):\n",
    "        # Last i elements are already in place\n",
    "        for j in range(n - i - 1):\n",
    "            # Swap if the element found is greater than the next element\n",
    "            if arr[j] > arr[j + 1]:\n",
    "                arr[j], arr[j + 1] = arr[j + 1], arr[j]\n",
    "    \n",
    "    return arr"
   ]
  },
  {
   "cell_type": "code",
   "execution_count": 6,
   "metadata": {},
   "outputs": [
    {
     "name": "stdout",
     "output_type": "stream",
     "text": [
      "3.7 s ± 31.2 ms per loop (mean ± std. dev. of 7 runs, 1 loop each)\n"
     ]
    }
   ],
   "source": [
    "%%timeit\n",
    "bubble_sort(randomlist.copy())"
   ]
  },
  {
   "cell_type": "markdown",
   "metadata": {},
   "source": [
    "### Insertion Sort"
   ]
  },
  {
   "cell_type": "code",
   "execution_count": 18,
   "metadata": {},
   "outputs": [],
   "source": [
    "# Average and Worst case performance: O(n^2)\n",
    "def insertion_sort(arr):\n",
    "    for i in range(1, len(arr)):\n",
    "        value = arr[i]\n",
    "        j = i - 1\n",
    "        \n",
    "        while j >= 0 and value < arr[j]:\n",
    "            arr[j + 1] = arr[j]\n",
    "            j -= 1\n",
    "        arr[j + 1] = value\n",
    "    return arr"
   ]
  },
  {
   "cell_type": "code",
   "execution_count": 19,
   "metadata": {},
   "outputs": [
    {
     "name": "stdout",
     "output_type": "stream",
     "text": [
      "3.29 s ± 281 ms per loop (mean ± std. dev. of 7 runs, 1 loop each)\n"
     ]
    }
   ],
   "source": [
    "%%timeit\n",
    "insertion_sort(randomlist.copy())"
   ]
  },
  {
   "cell_type": "code",
   "execution_count": 23,
   "metadata": {},
   "outputs": [
    {
     "name": "stdout",
     "output_type": "stream",
     "text": [
      "Insertion Sort Execution Time: 3.1421399457114085 seconds\n"
     ]
    }
   ],
   "source": [
    "start_time = time.time()\n",
    "for i in range(7):\n",
    "    insertion_sort(randomlist.copy())\n",
    "end_time = time.time()\n",
    "print(f\"Insertion Sort Execution Time: {(end_time - start_time)/7} seconds\")"
   ]
  },
  {
   "cell_type": "code",
   "execution_count": 45,
   "metadata": {},
   "outputs": [],
   "source": [
    "def merge_insertion_sort(array):\n",
    "    if len(array) <= 30:\n",
    "        return insertion_sort(array)\n",
    "    else:\n",
    "        left = merge_insertion_sort(array[:len(array) // 2])\n",
    "        right = merge_insertion_sort(array[len(array) // 2:])\n",
    "        # Merge the two halves\n",
    "        i = j = k = 0\n",
    "        while i < len(left) and j < len(right):\n",
    "            if left[i] <= right[j]:\n",
    "                array[k] = left[i]\n",
    "                i += 1\n",
    "            else:\n",
    "                array[k] = right[j]\n",
    "                j += 1\n",
    "            k += 1\n",
    "\n",
    "        # Copy any remaining elements\n",
    "        while i < len(left):\n",
    "            array[k] = left[i]\n",
    "            i += 1\n",
    "            k += 1\n",
    "\n",
    "        while j < len(right):\n",
    "            array[k] = right[j]\n",
    "            j += 1\n",
    "            k += 1\n",
    "    return array "
   ]
  },
  {
   "cell_type": "code",
   "execution_count": 49,
   "metadata": {},
   "outputs": [
    {
     "name": "stdout",
     "output_type": "stream",
     "text": [
      "23 ms ± 434 µs per loop (mean ± std. dev. of 7 runs, 10 loops each)\n"
     ]
    }
   ],
   "source": [
    "%%timeit\n",
    "merge_insertion_sort(randomlist.copy())"
   ]
  },
  {
   "cell_type": "markdown",
   "metadata": {},
   "source": [
    "### Quick Sort"
   ]
  },
  {
   "cell_type": "code",
   "execution_count": 25,
   "metadata": {},
   "outputs": [],
   "source": [
    "# Average and Worst case performance: O(n log(n))\n",
    "def partition(array):\n",
    "    pivot_index = random.randint(len(array)//4, 3*len(array)//4)\n",
    "    pivot = array[pivot_index]\n",
    "    array[0], array[pivot_index] = array[pivot_index], array[0]\n",
    "    \n",
    "    j = 1\n",
    "    for i in range(1, len(array)):\n",
    "        if array[i] < pivot:\n",
    "            array[i], array[j] = array[j], array[i]\n",
    "            j += 1\n",
    "    array[0], array[j-1] = array[j-1], array[0]\n",
    "    return j-1\n",
    "\n",
    "def quicksort(array):\n",
    "    if len(array) <= 1:\n",
    "        return array\n",
    "    pivot_index = partition(array)\n",
    "    return quicksort(array[:pivot_index]) + [array[pivot_index]] + quicksort(array[pivot_index + 1:])"
   ]
  },
  {
   "cell_type": "code",
   "execution_count": 40,
   "metadata": {},
   "outputs": [
    {
     "name": "stdout",
     "output_type": "stream",
     "text": [
      "29.5 ms ± 3.64 ms per loop (mean ± std. dev. of 7 runs, 10 loops each)\n"
     ]
    }
   ],
   "source": [
    "%%timeit\n",
    "quicksort(randomlist.copy())"
   ]
  },
  {
   "cell_type": "code",
   "execution_count": 27,
   "metadata": {},
   "outputs": [
    {
     "name": "stdout",
     "output_type": "stream",
     "text": [
      "1.6 ms ± 147 µs per loop (mean ± std. dev. of 7 runs, 1,000 loops each)\n"
     ]
    }
   ],
   "source": [
    "%%timeit\n",
    "sorted(randomlist.copy())"
   ]
  },
  {
   "cell_type": "markdown",
   "metadata": {},
   "source": [
    "## Strassen Matrix Multpilication"
   ]
  },
  {
   "cell_type": "code",
   "execution_count": 1,
   "metadata": {},
   "outputs": [],
   "source": [
    "# Running time: O(n^2.8)\n",
    "def strassen_multiply(A, B):\n",
    "    n = A.shape[0]\n",
    "    \n",
    "    # Base case: if the matrices are 64x64 or smaller, use regular matrix multiplication\n",
    "    if n <= 64:\n",
    "        return np.dot(A, B)\n",
    "    \n",
    "    # Splitting the matrices into quadrants\n",
    "    mid = n // 2\n",
    "    A11, A12 = A[:mid, :mid], A[:mid, mid:]\n",
    "    A21, A22 = A[mid:, :mid], A[mid:, mid:]\n",
    "    B11, B12 = B[:mid, :mid], B[:mid, mid:]\n",
    "    B21, B22 = B[mid:, :mid], B[mid:, mid:]\n",
    "    \n",
    "    # Recursive steps\n",
    "    P1 = strassen_multiply(A11 + A22, B11 + B22)\n",
    "    P2 = strassen_multiply(A21 + A22, B11)\n",
    "    P3 = strassen_multiply(A11, B12 - B22)\n",
    "    P4 = strassen_multiply(A22, B21 - B11)\n",
    "    P5 = strassen_multiply(A11 + A12, B22)\n",
    "    P6 = strassen_multiply(A21 - A11, B11 + B12)\n",
    "    P7 = strassen_multiply(A12 - A22, B21 + B22)\n",
    "    \n",
    "    # Computing the submatrices of the result matrix\n",
    "    C11 = P1 + P4 - P5 + P7\n",
    "    C12 = P3 + P5\n",
    "    C21 = P2 + P4\n",
    "    C22 = P1 - P2 + P3 + P6\n",
    "    \n",
    "    # Combining the submatrices into a single matrix\n",
    "    C = np.vstack((np.hstack((C11, C12)), np.hstack((C21, C22))))\n",
    "    \n",
    "    return C"
   ]
  },
  {
   "cell_type": "code",
   "execution_count": 15,
   "metadata": {},
   "outputs": [],
   "source": [
    "def pad_matrix(matrix):\n",
    "    m, n = matrix.shape\n",
    "\n",
    "    # Calculate the nearest higher power of 2 for rows and columns\n",
    "    m_power_of_2 = 2 ** np.ceil(np.log2(m))\n",
    "    n_power_of_2 = 2 ** np.ceil(np.log2(n))\n",
    "\n",
    "    # Calculate the number of rows and columns to be added for padding\n",
    "    rows_to_add = int(m_power_of_2 - m)\n",
    "    cols_to_add = int(n_power_of_2 - n)\n",
    "\n",
    "    padded_matrix = np.pad(matrix, ((0, rows_to_add), (0, cols_to_add)), 'constant')\n",
    "    \n",
    "    return padded_matrix\n"
   ]
  },
  {
   "cell_type": "code",
   "execution_count": 16,
   "metadata": {},
   "outputs": [],
   "source": [
    "rows = 2000\n",
    "columns = 2000\n",
    "\n",
    "# Create random matrices\n",
    "a = np.random.randint(low=1, high=10, size=(rows, columns))\n",
    "b = np.random.randint(low=1, high=10, size=(rows, columns))"
   ]
  },
  {
   "cell_type": "code",
   "execution_count": 17,
   "metadata": {},
   "outputs": [
    {
     "name": "stdout",
     "output_type": "stream",
     "text": [
      "3.67 s ± 41.7 ms per loop (mean ± std. dev. of 7 runs, 1 loop each)\n"
     ]
    }
   ],
   "source": [
    "%%timeit\n",
    "c = pad_matrix(a)\n",
    "d = pad_matrix(b)\n",
    "strassen_multiply(c, d)"
   ]
  },
  {
   "cell_type": "markdown",
   "metadata": {},
   "source": [
    "### Comparison with naive matrix multiplication"
   ]
  },
  {
   "cell_type": "code",
   "execution_count": 18,
   "metadata": {},
   "outputs": [
    {
     "name": "stdout",
     "output_type": "stream",
     "text": [
      "28.6 s ± 4.04 s per loop (mean ± std. dev. of 7 runs, 1 loop each)\n"
     ]
    }
   ],
   "source": [
    "%%timeit\n",
    "# Running time: O(n^3)\n",
    "a @ b"
   ]
  },
  {
   "cell_type": "markdown",
   "metadata": {},
   "source": [
    "## Selection"
   ]
  },
  {
   "cell_type": "markdown",
   "metadata": {},
   "source": [
    "### Randomized Selection"
   ]
  },
  {
   "cell_type": "code",
   "execution_count": 48,
   "metadata": {},
   "outputs": [],
   "source": [
    "def partition(array):\n",
    "    pivot_index = random.randint(len(array)//4, 3*len(array)//4)\n",
    "    pivot = array[pivot_index]\n",
    "    array[0], array[pivot_index] = array[pivot_index], array[0]\n",
    "    \n",
    "    j = 1\n",
    "    for i in range(1, len(array)):\n",
    "        if array[i] < pivot:\n",
    "            array[i], array[j] = array[j], array[i]\n",
    "            j += 1\n",
    "    array[0], array[j-1] = array[j-1], array[0]\n",
    "    return j-1\n",
    "\n",
    "def selection(array, order_statistic_i):\n",
    "    if len(array) < 1:\n",
    "        return array[0]\n",
    "    pivot_index = partition(array) + 1\n",
    "    if order_statistic_i == pivot_index:\n",
    "        return array[pivot_index - 1]\n",
    "    elif order_statistic_i < pivot_index:\n",
    "        return selection(array[:pivot_index], order_statistic_i)\n",
    "    else:\n",
    "        return selection(array[pivot_index:], order_statistic_i - pivot_index)"
   ]
  },
  {
   "cell_type": "code",
   "execution_count": 66,
   "metadata": {},
   "outputs": [],
   "source": [
    "n = 10000000\n",
    "randomlist = random.sample(range(0, n), n)"
   ]
  },
  {
   "cell_type": "code",
   "execution_count": 67,
   "metadata": {},
   "outputs": [
    {
     "name": "stdout",
     "output_type": "stream",
     "text": [
      "8.59 s ± 1.76 s per loop (mean ± std. dev. of 7 runs, 1 loop each)\n"
     ]
    }
   ],
   "source": [
    "%%timeit\n",
    "selection(randomlist.copy(), n/2+1)"
   ]
  },
  {
   "cell_type": "code",
   "execution_count": 68,
   "metadata": {},
   "outputs": [
    {
     "name": "stdout",
     "output_type": "stream",
     "text": [
      "5.72 s ± 95.3 ms per loop (mean ± std. dev. of 7 runs, 1 loop each)\n"
     ]
    }
   ],
   "source": [
    "%%timeit\n",
    "statistics.median(randomlist.copy())"
   ]
  },
  {
   "cell_type": "markdown",
   "metadata": {},
   "source": [
    "# Graphs"
   ]
  },
  {
   "cell_type": "markdown",
   "metadata": {},
   "source": [
    "## Representing graphs"
   ]
  },
  {
   "cell_type": "markdown",
   "metadata": {},
   "source": [
    "### Undirected graphs"
   ]
  },
  {
   "cell_type": "code",
   "execution_count": 30,
   "metadata": {},
   "outputs": [],
   "source": [
    "# G = (V, E)\n",
    "Graph = namedtuple('Graph', ['V', 'E'])"
   ]
  },
  {
   "cell_type": "code",
   "execution_count": 31,
   "metadata": {},
   "outputs": [],
   "source": [
    "# Konigsberg Graph\n",
    "V = ['A', 'B', 'C', 'D']\n",
    "E = [('A', 'B'), ('A', 'B'), ('A', 'C'), ('A', 'C'), ('A', 'D'), ('B', 'D'), ('C', 'D')]\n",
    "G = Graph(V, E) #This is not the best rapresentation of a graph\n",
    "G"
   ]
  },
  {
   "cell_type": "code",
   "execution_count": 33,
   "metadata": {},
   "outputs": [
    {
     "data": {
      "text/plain": [
       "{'A': ['B', 'B', 'C', 'C', 'D'],\n",
       " 'B': ['A', 'A', 'D'],\n",
       " 'C': ['A', 'A', 'D'],\n",
       " 'D': ['A', 'B', 'C']}"
      ]
     },
     "execution_count": 33,
     "metadata": {},
     "output_type": "execute_result"
    }
   ],
   "source": [
    "# Adjacency list representation of an undirected graph\n",
    "def adjacency_dict(graph):\n",
    "    adj = {node : [] for node in graph.V}\n",
    "    for edge in graph.E:\n",
    "        node1, node2 = edge[0], edge[1]\n",
    "        adj[node1].append(node2)\n",
    "        adj[node2].append(node1)\n",
    "    return adj   \n",
    "\n",
    "# Adjacency list of Konigsberg graph\n",
    "adjacency_dict(G)"
   ]
  },
  {
   "cell_type": "code",
   "execution_count": 34,
   "metadata": {},
   "outputs": [],
   "source": [
    "# Adjacency Matrix of an undirected graph\n",
    "def adjacency_matrix(graph):\n",
    "    n = len(graph.V)\n",
    "    adj = np.zeros((n, n))\n",
    "    for edge in graph.E:\n",
    "        node1, node2 = edge[0], edge[1]\n",
    "        adj[node1, node2] += 1\n",
    "        adj[node2, node1] += 1\n",
    "    return adj"
   ]
  },
  {
   "cell_type": "code",
   "execution_count": 35,
   "metadata": {},
   "outputs": [],
   "source": [
    "V = range(4)\n",
    "E = [(0, 1), (0, 1), (0, 2), (0, 2), (0, 3), (1, 3), (2, 3)]\n",
    "G = Graph(V, E)"
   ]
  },
  {
   "cell_type": "code",
   "execution_count": 36,
   "metadata": {},
   "outputs": [
    {
     "data": {
      "text/plain": [
       "array([[0., 2., 2., 1.],\n",
       "       [2., 0., 0., 1.],\n",
       "       [2., 0., 0., 1.],\n",
       "       [1., 1., 1., 0.]])"
      ]
     },
     "execution_count": 36,
     "metadata": {},
     "output_type": "execute_result"
    }
   ],
   "source": [
    "# Adjacency Matrix of Konigsberg graph\n",
    "adjacency_matrix(G)"
   ]
  },
  {
   "cell_type": "markdown",
   "metadata": {},
   "source": [
    "### Account for Directed graphs"
   ]
  },
  {
   "cell_type": "code",
   "execution_count": 38,
   "metadata": {},
   "outputs": [],
   "source": [
    "Graph = namedtuple('Graph', ['V', 'E', \"is_directed\"])"
   ]
  },
  {
   "cell_type": "code",
   "execution_count": 39,
   "metadata": {},
   "outputs": [],
   "source": [
    "def adjacency_dict(graph):\n",
    "    adj = {node : [] for node in graph.V}\n",
    "    for edge in graph.E:\n",
    "        node1, node2 = edge[0], edge[1]\n",
    "        adj[node1].append(node2)\n",
    "        if not graph.is_directed:\n",
    "            adj[node2].append(node1)\n",
    "    return adj"
   ]
  },
  {
   "cell_type": "code",
   "execution_count": 40,
   "metadata": {},
   "outputs": [],
   "source": [
    "def adjacency_matrix(graph):\n",
    "    n = len(graph.V)\n",
    "    adj = np.zeros((n, n))\n",
    "    for edge in graph.E:\n",
    "        node1, node2 = edge[0], edge[1]\n",
    "        adj[node1, node2] += 1\n",
    "        if not graph.is_directed:\n",
    "            adj[node2, node1] += 1\n",
    "    return adj"
   ]
  },
  {
   "cell_type": "code",
   "execution_count": 46,
   "metadata": {},
   "outputs": [],
   "source": [
    "G = Graph(V=range(3),E=[(0, 1), (1, 2), (0, 2)], is_directed=False)"
   ]
  },
  {
   "cell_type": "code",
   "execution_count": 48,
   "metadata": {},
   "outputs": [
    {
     "data": {
      "text/plain": [
       "array([[0., 1., 1.],\n",
       "       [1., 0., 1.],\n",
       "       [1., 1., 0.]])"
      ]
     },
     "execution_count": 48,
     "metadata": {},
     "output_type": "execute_result"
    }
   ],
   "source": [
    "adjacency_dict(G)"
   ]
  },
  {
   "cell_type": "code",
   "execution_count": 49,
   "metadata": {},
   "outputs": [
    {
     "data": {
      "text/plain": [
       "array([[0., 1., 1.],\n",
       "       [1., 0., 1.],\n",
       "       [1., 1., 0.]])"
      ]
     },
     "execution_count": 49,
     "metadata": {},
     "output_type": "execute_result"
    }
   ],
   "source": [
    "adjacency_matrix(G)"
   ]
  },
  {
   "cell_type": "code",
   "execution_count": 53,
   "metadata": {},
   "outputs": [],
   "source": [
    "G = Graph(V=range(3),E=[(1, 0), (1, 2), (0, 2)], is_directed=True)"
   ]
  },
  {
   "cell_type": "code",
   "execution_count": 54,
   "metadata": {},
   "outputs": [
    {
     "data": {
      "text/plain": [
       "{0: [2], 1: [0, 2], 2: []}"
      ]
     },
     "execution_count": 54,
     "metadata": {},
     "output_type": "execute_result"
    }
   ],
   "source": [
    "adjacency_dict(G)"
   ]
  },
  {
   "cell_type": "code",
   "execution_count": 55,
   "metadata": {},
   "outputs": [
    {
     "data": {
      "text/plain": [
       "array([[0., 0., 1.],\n",
       "       [1., 0., 1.],\n",
       "       [0., 0., 0.]])"
      ]
     },
     "execution_count": 55,
     "metadata": {},
     "output_type": "execute_result"
    }
   ],
   "source": [
    "adjacency_matrix(G)"
   ]
  },
  {
   "cell_type": "code",
   "execution_count": null,
   "metadata": {},
   "outputs": [],
   "source": []
  }
 ],
 "metadata": {
  "kernelspec": {
   "display_name": "Python 3",
   "language": "python",
   "name": "python3"
  },
  "language_info": {
   "codemirror_mode": {
    "name": "ipython",
    "version": 3
   },
   "file_extension": ".py",
   "mimetype": "text/x-python",
   "name": "python",
   "nbconvert_exporter": "python",
   "pygments_lexer": "ipython3",
   "version": "3.11.4"
  },
  "orig_nbformat": 4
 },
 "nbformat": 4,
 "nbformat_minor": 2
}
