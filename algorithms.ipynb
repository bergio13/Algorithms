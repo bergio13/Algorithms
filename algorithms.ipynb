{
 "cells": [
  {
   "cell_type": "code",
   "execution_count": 1,
   "metadata": {},
   "outputs": [],
   "source": [
    "import random\n",
    "import numpy as np"
   ]
  },
  {
   "cell_type": "markdown",
   "metadata": {},
   "source": [
    "# Divide and conquer"
   ]
  },
  {
   "cell_type": "markdown",
   "metadata": {},
   "source": [
    "## Merge sort"
   ]
  },
  {
   "cell_type": "code",
   "execution_count": 2,
   "metadata": {},
   "outputs": [],
   "source": [
    "# Average and Worst case performance: O(n log(n))\n",
    "def mergesort(array):\n",
    "    if len(array) <= 1:\n",
    "        return array\n",
    "    else:\n",
    "        mid = len(array) // 2\n",
    "        left = array[:mid]\n",
    "        right = array[mid:]\n",
    "        #print(left, right)\n",
    "        left = mergesort(left)\n",
    "        #print(left)\n",
    "        right = mergesort(right)\n",
    "        #print(right)\n",
    "        return merge(left, right)\n",
    "        \n",
    "\n",
    "def merge(left, right):\n",
    "    result = []\n",
    "    while len(left) > 0 and len(right) > 0:\n",
    "        result.append(left.pop(0) if left[0] <= right[0] else right.pop(0))\n",
    "    #while len(left) > 0:\n",
    "    #    result.append(left.pop(0))\n",
    "    #while len(right) > 0:\n",
    "    #    result.append(right.pop(0))\n",
    "    #return result\n",
    "    return result + left + right"
   ]
  },
  {
   "cell_type": "code",
   "execution_count": 3,
   "metadata": {},
   "outputs": [
    {
     "name": "stdout",
     "output_type": "stream",
     "text": [
      "[0, 3, 1, 2]\n"
     ]
    }
   ],
   "source": [
    "n = 4\n",
    "randomlist = random.sample(range(0, n), n)\n",
    "print(randomlist) if len(randomlist) < 20 else print(\"List too long to print\")"
   ]
  },
  {
   "cell_type": "code",
   "execution_count": 4,
   "metadata": {},
   "outputs": [
    {
     "name": "stdout",
     "output_type": "stream",
     "text": [
      "CPU times: total: 0 ns\n",
      "Wall time: 0 ns\n"
     ]
    },
    {
     "data": {
      "text/plain": [
       "[0, 1, 2, 3]"
      ]
     },
     "execution_count": 4,
     "metadata": {},
     "output_type": "execute_result"
    }
   ],
   "source": [
    "%%time \n",
    "mergesort(randomlist)"
   ]
  },
  {
   "cell_type": "markdown",
   "metadata": {},
   "source": [
    "#### Comparison with bubble sort"
   ]
  },
  {
   "cell_type": "code",
   "execution_count": 5,
   "metadata": {},
   "outputs": [],
   "source": [
    "def bubble_sort(arr):\n",
    "    n = len(arr)\n",
    "    \n",
    "    for i in range(n - 1):\n",
    "        # Last i elements are already in place\n",
    "        for j in range(n - i - 1):\n",
    "            # Swap if the element found is greater than the next element\n",
    "            if arr[j] > arr[j + 1]:\n",
    "                arr[j], arr[j + 1] = arr[j + 1], arr[j]\n",
    "    \n",
    "    return arr"
   ]
  },
  {
   "cell_type": "code",
   "execution_count": 6,
   "metadata": {},
   "outputs": [
    {
     "name": "stdout",
     "output_type": "stream",
     "text": [
      "CPU times: total: 0 ns\n",
      "Wall time: 0 ns\n"
     ]
    },
    {
     "data": {
      "text/plain": [
       "[0, 1, 2, 3]"
      ]
     },
     "execution_count": 6,
     "metadata": {},
     "output_type": "execute_result"
    }
   ],
   "source": [
    "%%time \n",
    "bubble_sort(randomlist)"
   ]
  },
  {
   "cell_type": "markdown",
   "metadata": {},
   "source": [
    "## Strassen Matrix Multpilication"
   ]
  },
  {
   "cell_type": "code",
   "execution_count": 7,
   "metadata": {},
   "outputs": [],
   "source": [
    "def strassen_multiply(A, B):\n",
    "    n = A.shape[0]\n",
    "    \n",
    "    # Base case: if the matrices are 64x64 or smaller, use regular matrix multiplication\n",
    "    if n <= 64:\n",
    "        return np.dot(A, B)\n",
    "    \n",
    "    # Splitting the matrices into quadrants\n",
    "    mid = n // 2\n",
    "    A11, A12 = A[:mid, :mid], A[:mid, mid:]\n",
    "    A21, A22 = A[mid:, :mid], A[mid:, mid:]\n",
    "    B11, B12 = B[:mid, :mid], B[:mid, mid:]\n",
    "    B21, B22 = B[mid:, :mid], B[mid:, mid:]\n",
    "    \n",
    "    # Recursive steps\n",
    "    P1 = strassen_multiply(A11 + A22, B11 + B22)\n",
    "    P2 = strassen_multiply(A21 + A22, B11)\n",
    "    P3 = strassen_multiply(A11, B12 - B22)\n",
    "    P4 = strassen_multiply(A22, B21 - B11)\n",
    "    P5 = strassen_multiply(A11 + A12, B22)\n",
    "    P6 = strassen_multiply(A21 - A11, B11 + B12)\n",
    "    P7 = strassen_multiply(A12 - A22, B21 + B22)\n",
    "    \n",
    "    # Computing the submatrices of the result matrix\n",
    "    C11 = P1 + P4 - P5 + P7\n",
    "    C12 = P3 + P5\n",
    "    C21 = P2 + P4\n",
    "    C22 = P1 - P2 + P3 + P6\n",
    "    \n",
    "    # Combining the submatrices into a single matrix\n",
    "    C = np.vstack((np.hstack((C11, C12)), np.hstack((C21, C22))))\n",
    "    \n",
    "    return C\n"
   ]
  },
  {
   "cell_type": "code",
   "execution_count": 8,
   "metadata": {},
   "outputs": [],
   "source": [
    "rows = 2048\n",
    "columns = 2048\n",
    "\n",
    "# Create random matrices\n",
    "a = np.random.randint(low=1, high=10, size=(rows, columns))\n",
    "b = np.random.randint(low=1, high=10, size=(rows, columns))"
   ]
  },
  {
   "cell_type": "code",
   "execution_count": 9,
   "metadata": {},
   "outputs": [
    {
     "name": "stdout",
     "output_type": "stream",
     "text": [
      "CPU times: total: 875 ms\n",
      "Wall time: 4.83 s\n"
     ]
    },
    {
     "data": {
      "text/plain": [
       "array([[51277, 52877, 51688, ..., 51769, 51708, 51117],\n",
       "       [50931, 52674, 50761, ..., 51304, 51122, 50447],\n",
       "       [50734, 51771, 51359, ..., 50997, 51284, 50094],\n",
       "       ...,\n",
       "       [50029, 51909, 50483, ..., 50544, 50471, 49893],\n",
       "       [49553, 51222, 49659, ..., 50176, 49774, 49400],\n",
       "       [49303, 50761, 49951, ..., 50804, 50400, 49401]])"
      ]
     },
     "execution_count": 9,
     "metadata": {},
     "output_type": "execute_result"
    }
   ],
   "source": [
    "%%time\n",
    "strassen_multiply(a, b)"
   ]
  },
  {
   "cell_type": "markdown",
   "metadata": {},
   "source": [
    "### Comparison with classical matrix multiplication"
   ]
  },
  {
   "cell_type": "code",
   "execution_count": 10,
   "metadata": {},
   "outputs": [
    {
     "name": "stdout",
     "output_type": "stream",
     "text": [
      "CPU times: total: 15.7 s\n",
      "Wall time: 1min 5s\n"
     ]
    },
    {
     "data": {
      "text/plain": [
       "array([[51277, 52877, 51688, ..., 51769, 51708, 51117],\n",
       "       [50931, 52674, 50761, ..., 51304, 51122, 50447],\n",
       "       [50734, 51771, 51359, ..., 50997, 51284, 50094],\n",
       "       ...,\n",
       "       [50029, 51909, 50483, ..., 50544, 50471, 49893],\n",
       "       [49553, 51222, 49659, ..., 50176, 49774, 49400],\n",
       "       [49303, 50761, 49951, ..., 50804, 50400, 49401]])"
      ]
     },
     "execution_count": 10,
     "metadata": {},
     "output_type": "execute_result"
    }
   ],
   "source": [
    "%%time\n",
    "a @ b"
   ]
  },
  {
   "cell_type": "code",
   "execution_count": null,
   "metadata": {},
   "outputs": [],
   "source": []
  }
 ],
 "metadata": {
  "kernelspec": {
   "display_name": "Python 3",
   "language": "python",
   "name": "python3"
  },
  "language_info": {
   "codemirror_mode": {
    "name": "ipython",
    "version": 3
   },
   "file_extension": ".py",
   "mimetype": "text/x-python",
   "name": "python",
   "nbconvert_exporter": "python",
   "pygments_lexer": "ipython3",
   "version": "3.10.5"
  },
  "orig_nbformat": 4
 },
 "nbformat": 4,
 "nbformat_minor": 2
}
